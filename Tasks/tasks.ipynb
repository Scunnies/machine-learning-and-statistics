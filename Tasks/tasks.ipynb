{
 "cells": [
  {
   "cell_type": "markdown",
   "id": "1194d5bc-4de6-4b37-8155-7792d7aeb13a",
   "metadata": {},
   "source": [
    "## Task 1\n",
    "### write a function sqrt(x) to approximate the square root of a floating point number x without using the power operator or a package"
   ]
  },
  {
   "cell_type": "markdown",
   "id": "a914ae4f-1cf9-4ab0-b602-aa6da4702c4f",
   "metadata": {},
   "source": [
    "In this code I have used recursion - where a function calls itself in its own body until the set tolerance is reached. A guess is made of the square root which is checked for accuracy against the actual square root by squaring it and making the difference, or tolerance, a small number, in this case 0.0001. If the guess isn’t accurate enough a new guess is created and so the programme keeps performing this calculation recursively until the guess comes within the set tolerance and the recursion and function ends.\n",
    "\n",
    "I understand that there are schools of thought that recursion is a poor approach in Python - perceived as slower than an iterative solution and because Python's recursion depth is limited to 1000 there is potential for stack overflow (although the recursion depth can be reset to a higher number). Having researched opinions on the use of recursion I felt that it was appropriate to use it for this particular task."
   ]
  },
  {
   "cell_type": "code",
   "execution_count": null,
   "id": "7cfced50-f5ce-414a-890d-61912b44688b",
   "metadata": {},
   "outputs": [],
   "source": [
    "# read in the variables needed to perform the calculation\n",
    "num = int(input(\"Enter a number: \"))\n",
    "given = num/2\n",
    "tol = 0.0001 # set the tolerance\n",
    "\n",
    "# this function will loop the iteration until the tolerance is reached\n",
    "def sqRoot(x):\n",
    "    if((x * x > num - tol) and (x * x <= num + tol)):\n",
    "        return x\n",
    "    x = (x + num/x)/2\n",
    "    return sqRoot(x)\n",
    "\n",
    "# call the function\n",
    "root = sqRoot(given)\n",
    "\n",
    "# rounding the output so that it is more approximate!\n",
    "roundRoot = round(root, 2)\n",
    "\n",
    "print(\"The square root of {} is approximately {}\".format(num,roundRoot))"
   ]
  },
  {
   "cell_type": "markdown",
   "id": "ec1e0903-fa53-4d2a-adbc-36345458be5e",
   "metadata": {},
   "source": [
    "## REFERENCES:\n",
    "* https://hackernoon.com/calculating-the-square-root-of-a-number-using-the-newton-raphson-method-a-how-to-guide-yr4e32zo\n",
    "* https://data-flair.training/blogs/python-function/\n",
    "* https://stackoverflow.com/questions/16005123/how-can-i-make-a-recursive-square-root-in-python#:~:text=The%20basic%20strategy%20for%20a,the%20true%20root%20to%20return.\n",
    "* https://stackoverflow.com/questions/48823833/simple-program-to-find-squre-root-using-recursion/48823931\n",
    "* https://beapython.dev/2020/05/14/is-recursion-bad-in-python/#:~:text=Recursion%20can%20be%20considered%20bad,calls%20on%20the%20call%20stack.\n",
    "* https://stackoverflow.com/questions/4278327/danger-of-recursive-functions  "
   ]
  }
 ],
 "metadata": {
  "kernelspec": {
   "display_name": "Python 3 (ipykernel)",
   "language": "python",
   "name": "python3"
  },
  "language_info": {
   "codemirror_mode": {
    "name": "ipython",
    "version": 3
   },
   "file_extension": ".py",
   "mimetype": "text/x-python",
   "name": "python",
   "nbconvert_exporter": "python",
   "pygments_lexer": "ipython3",
   "version": "3.11.2"
  }
 },
 "nbformat": 4,
 "nbformat_minor": 5
}
