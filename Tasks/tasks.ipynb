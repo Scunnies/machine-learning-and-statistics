{
 "cells": [
  {
   "cell_type": "markdown",
   "id": "1194d5bc-4de6-4b37-8155-7792d7aeb13a",
   "metadata": {},
   "source": [
    "# Task 1\n",
    "***\n",
    "#### Write a function sqrt(x) to approximate the square root of a floating point number x without using the power operator or a package"
   ]
  },
  {
   "cell_type": "markdown",
   "id": "a914ae4f-1cf9-4ab0-b602-aa6da4702c4f",
   "metadata": {},
   "source": [
    "In this code I have used recursion - where a function calls itself in its own body until the set tolerance is reached. A guess is made of the square root which is checked for accuracy against the actual square root by squaring it and making the difference, or tolerance, a small number, in this case 0.0001. If the guess isn’t accurate enough a new guess is created and so the programme keeps performing this calculation recursively until the guess comes within the set tolerance and the recursion and function ends.\n",
    "\n",
    "I understand that there are schools of thought that recursion is a poor approach in Python - perceived as slower than an iterative solution and because Python's recursion depth is limited to 1000 there is potential for stack overflow (although the recursion depth can be reset to a higher number). Having researched opinions on the use of recursion I felt that it was appropriate to use it for this particular task."
   ]
  },
  {
   "cell_type": "code",
   "execution_count": 5,
   "id": "7cfced50-f5ce-414a-890d-61912b44688b",
   "metadata": {},
   "outputs": [
    {
     "name": "stdin",
     "output_type": "stream",
     "text": [
      "Enter a number:  64\n"
     ]
    },
    {
     "name": "stdout",
     "output_type": "stream",
     "text": [
      "The square root of 64 is approximately 8.0\n"
     ]
    }
   ],
   "source": [
    "# read in the variables needed to perform the calculation\n",
    "num = int(input(\"Enter a number: \"))\n",
    "given = num/2\n",
    "tol = 0.0001 # set the tolerance\n",
    "\n",
    "# this function will loop the iteration until the tolerance is reached\n",
    "def sqRoot(x):\n",
    "    if((x * x > num - tol) and (x * x <= num + tol)):\n",
    "        return x\n",
    "    x = (x + num/x)/2\n",
    "    return sqRoot(x)\n",
    "\n",
    "# call the function\n",
    "root = sqRoot(given)\n",
    "\n",
    "# rounding the output so that it is more approximate!\n",
    "roundRoot = round(root, 2)\n",
    "\n",
    "print(\"The square root of {} is approximately {}\".format(num,roundRoot))"
   ]
  },
  {
   "cell_type": "markdown",
   "id": "ec1e0903-fa53-4d2a-adbc-36345458be5e",
   "metadata": {},
   "source": [
    "## REFERENCES:\n",
    "* https://hackernoon.com/calculating-the-square-root-of-a-number-using-the-newton-raphson-method-a-how-to-guide-yr4e32zo\n",
    "* https://data-flair.training/blogs/python-function/\n",
    "* https://stackoverflow.com/questions/16005123/how-can-i-make-a-recursive-square-root-in-python#:~:text=The%20basic%20strategy%20for%20a,the%20true%20root%20to%20return.\n",
    "* https://stackoverflow.com/questions/48823833/simple-program-to-find-squre-root-using-recursion/48823931\n",
    "* https://beapython.dev/2020/05/14/is-recursion-bad-in-python/#:~:text=Recursion%20can%20be%20considered%20bad,calls%20on%20the%20call%20stack.\n",
    "* https://stackoverflow.com/questions/4278327/danger-of-recursive-functions  "
   ]
  },
  {
   "cell_type": "markdown",
   "id": "dd511ff5",
   "metadata": {},
   "source": [
    "# Task 2\n",
    "***\n",
    "#### Consider the below contingency table based on a survey asking respondents whether they prefer coffee or tea and whether they prefer plain or chocolate biscuits. Use scipy.stats to perform a chi-squared test to see whether there is any evidence of an association between drink preference and biscuit preference in this instance.\n"
   ]
  },
  {
   "cell_type": "markdown",
   "id": "76d37328",
   "metadata": {},
   "source": [
    "           | Chocolate  |   Plain\n",
    "-------------------------------------\n",
    "Coffee     |     43     |     57\n",
    "Tea        |     56     |     45\n"
   ]
  },
  {
   "cell_type": "code",
   "execution_count": null,
   "id": "e8831c5b",
   "metadata": {},
   "outputs": [],
   "source": [
    "from scipy.stats import chi2_contingency\n",
    "\n",
    "# Define the contingency table with labels\n",
    "contingency_table = [\n",
    "    ['Drink', 'Biscuit', 'Count'],  # Column labels\n",
    "    ['Coffee', 'Chocolate', 43],    # Row 1\n",
    "    ['Coffee', 'Plain', 57],        # Row 2\n",
    "    ['Tea', 'Chocolate', 56],       # Row 3\n",
    "    ['Tea', 'Plain', 45],           # Row 4\n",
    "]\n",
    "\n",
    "# Extracting the actual data (excluding column labels)\n",
    "data = [row[2] for row in contingency_table[1:]]\n",
    "\n",
    "# Perform chi-squared test\n",
    "chi2, p, _, _ = chi2_contingency([data[:2], data[2:]])\n",
    "\n",
    "# Print results\n",
    "print(f\"Chi-squared statistic: {chi2}\")\n",
    "print(f\"P-value: {p}\")\n",
    "\n",
    "# Interpret the results\n",
    "alpha = 0.05\n",
    "print(\"\\nSignificance Test:\")\n",
    "if p <= alpha:\n",
    "    print(\"There is evidence of an association between drink preference and biscuit preference.\")\n",
    "else:\n",
    "    print(\"There is no evidence of an association between drink preference and biscuit preference.\")\n"
   ]
  },
  {
   "cell_type": "markdown",
   "id": "87ba78cc",
   "metadata": {},
   "source": [
    "### Method\n",
    "\n",
    "First I created a contingency table using a list of lists. Column labels are ['Drink', 'Biscuit', 'Count'] and the rows represent different combinations of drink and biscuit preferences, with corresponding counts.\n",
    "\n",
    "I then extracted the actual count values from the rows of the contingency table and excluded the column labels from the data.\n",
    "\n",
    "I used `chi2_contingency` from `scipy.stats` to perform a chi-squared test on the data.  The function expects a 2D array or contingency table, so I split the data into two lists representing the counts for 'Chocolate' and 'Plain' biscuits.\n",
    "\n",
    "Having obtained the chi-squared statistic and p-value from the test, the findings are printed using print statements.  \n",
    "\n",
    "The chi-squared statistic is used to quantify the difference between the observed and expected frequencies in a contingency table. In the context of the chi-squared test of independence, the statistic is used to assess whether there is a significant association between the categorical variables represented in the table.\n",
    "\n",
    "If the p-value is less than or equal to the signifiance level (`alpha`), it suggests evidence to reject the null hypothesis, indicating an association.  Otherwise, there is no evidence of an association.  For my purposes I have used the standard significance level of 0.05.  \n",
    "\n",
    "### Finding\n",
    "The P value here is 0.10447218120907394, well above the significance level of 0.05 indicating that there is no correlation between a persons preferred drink (tea or coffee) and the type of biscuit they prefer (chocolate/plain). \n"
   ]
  },
  {
   "cell_type": "markdown",
   "id": "09ad667e",
   "metadata": {},
   "source": [
    "## REFERENCES:\n",
    "* https://docs.scipy.org/doc/scipy/reference/generated/scipy.stats.chi2_contingency.html\n",
    "* https://www.geeksforgeeks.org/python-pearsons-chi-square-test/\n",
    "* https://analyticsindiamag.com/a-beginners-guide-to-chi-square-test-in-python-from-scratch/\n",
    "* https://stats.stackexchange.com/questions/104468/understanding-the-chi-squared-test-and-the-chi-squared-distribution"
   ]
  },
  {
   "cell_type": "markdown",
   "id": "db6d675f-d5c7-4050-907e-526c515f11d1",
   "metadata": {},
   "source": [
    "# Task 3\n",
    "***\n",
    "#### Perform a t-test on the famous penguins data set to investigate whether there is evidence of a significant difference in the body mass of male and female gentoo penguins"
   ]
  },
  {
   "cell_type": "code",
   "execution_count": null,
   "id": "56a833ca-ecdd-49c4-9506-ba4bb24af2bf",
   "metadata": {},
   "outputs": [],
   "source": []
  },
  {
   "cell_type": "code",
   "execution_count": 1,
   "id": "903a1cbc-0dec-4194-92d8-1187a11b91b0",
   "metadata": {},
   "outputs": [
    {
     "name": "stdout",
     "output_type": "stream",
     "text": [
      "T-statistic: nan\n",
      "P-value: nan\n",
      "There is no significant difference in body mass between male and female Gentoo penguins.\n"
     ]
    }
   ],
   "source": [
    "import pandas as pd\n",
    "from scipy.stats import ttest_ind\n",
    "\n",
    "# Load the penguins dataset\n",
    "penguins = pd.read_csv('penguins.csv')\n",
    "\n",
    "# Filter data for only Gentoo penguins\n",
    "gentoo_penguins = penguins[penguins['species'] == 'Gentoo']\n",
    "\n",
    "# Separate data for male and female Gentoo penguins\n",
    "male_data = gentoo_penguins[gentoo_penguins['sex'] == 'Male']['body_mass_g']\n",
    "female_data = gentoo_penguins[gentoo_penguins['sex'] == 'Female']['body_mass_g']\n",
    "\n",
    "# Perform t-test\n",
    "t_stat, p_value = ttest_ind(male_data, female_data)\n",
    "\n",
    "# Print the results\n",
    "print(f'T-statistic: {t_stat}')\n",
    "print(f'P-value: {p_value}')\n",
    "\n",
    "# Check for statistical significance\n",
    "alpha = 0.05\n",
    "if p_value < alpha:\n",
    "    print('There is evidence of a significant difference in body mass between male and female Gentoo penguins.')\n",
    "else:\n",
    "    print(\"There is no significant difference in body mass between male and female Gentoo penguins.\")\n"
   ]
  }
 ],
 "metadata": {
  "kernelspec": {
   "display_name": "Python 3 (ipykernel)",
   "language": "python",
   "name": "python3"
  },
  "language_info": {
   "codemirror_mode": {
    "name": "ipython",
    "version": 3
   },
   "file_extension": ".py",
   "mimetype": "text/x-python",
   "name": "python",
   "nbconvert_exporter": "python",
   "pygments_lexer": "ipython3",
   "version": "3.11.2"
  }
 },
 "nbformat": 4,
 "nbformat_minor": 5
}
