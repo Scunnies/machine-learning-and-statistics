{
 "cells": [
  {
   "cell_type": "markdown",
   "id": "5bfa0c91-a8d5-4671-933a-2df62324784c",
   "metadata": {},
   "source": [
    "# Machine Learning and Statistics\n",
    "## Winter Semester 2023\n",
    "***\n",
    "\n",
    "This notebook contains the solutions for five tasks relating to each of the five topics covered during this module. \n",
    "\n",
    "***"
   ]
  },
  {
   "cell_type": "markdown",
   "id": "1194d5bc-4de6-4b37-8155-7792d7aeb13a",
   "metadata": {},
   "source": [
    "# Task 1\n",
    "***\n",
    "#### Write a function sqrt(x) to approximate the square root of a floating point number x without using the power operator or a package"
   ]
  },
  {
   "cell_type": "markdown",
   "id": "0e5f6ce0-ed09-4e94-b207-808ebccd4e96",
   "metadata": {},
   "source": [
    "### Newton's Method for Square Root Approximation\n",
    "\n",
    "Newton's method, also known as the Newton-Raphson method, is an iterative numerical technique for finding roots of equations.  Specifically, when applied to the square root problem, the method starts with an initial guess and refines it through successive iterations to converge towards the square root of a given number. \n",
    "\n",
    "Newton's method is based on tangent lines.  The premise being that if x is close enough to the root of f(x), the tangent of the graph will intersect the x-axis at a point (x, f(x)) which is closer to the root than x, in other words, each successive guess will draw closer to the actual answer.  This iterative formula is as follows:"
   ]
  },
  {
   "cell_type": "markdown",
   "id": "07cc6603-09da-4d82-b888-070728a50f94",
   "metadata": {},
   "source": [
    "$x_{n+1} = x_n - \\frac{f(x_n)}{f'(x_n)}$"
   ]
  },
  {
   "cell_type": "markdown",
   "id": "311dad47-8c02-40d6-b7cf-bd0451cddd81",
   "metadata": {},
   "source": [
    "GeekforGeeks consider the Newton Raphson Method advantageous for solving non-linear equations, non-linear differential and non-linear integral equations.  The order of convergence is quadric i.e. of second order which makes this method fast as compared to other methods and it is easy to implement in computing.\n",
    "\n",
    "Disadvantages of Newton Raphson Method include complexities which arise if the derivative of the function f(x) is not simple. Additionally, in each iteration, two quantities f(x) and f'(x) have to be evaluated.  Depending on the number of iterations, it may not always converge. "
   ]
  },
  {
   "cell_type": "markdown",
   "id": "d1fdb354-bd20-4bee-a423-3188d487ac3d",
   "metadata": {},
   "source": [
    "The below code is a simple python implementation of the Newton-Raphson method to find the root of a given function. The user provides an initial guess, a tolerable error, and a maximum number of steps for the algorithm. The defined function `newtonRaphson`takes the three user inputs and iteratively applies the formula within the function, looping until either the root is found or the maximum number of iterations is reached. "
   ]
  },
  {
   "cell_type": "code",
   "execution_count": 21,
   "id": "fbd19818-39bb-4e9e-a810-1eb9d72e6515",
   "metadata": {},
   "outputs": [
    {
     "name": "stdin",
     "output_type": "stream",
     "text": [
      "Enter Guess:  5\n",
      "Tolerable Error:  0.0001\n",
      "Maximum Step:  20\n"
     ]
    },
    {
     "name": "stdout",
     "output_type": "stream",
     "text": [
      "\n",
      "\n",
      "*** NEWTON RAPHSON METHOD IMPLEMENTATION ***\n",
      "Iteration-1, x1 = 3.700000 and f(x1) = 23.153000\n",
      "Iteration-2, x1 = 3.058109 and f(x1) = 4.308989\n",
      "Iteration-3, x1 = 2.871218 and f(x1) = 0.313917\n",
      "Iteration-4, x1 = 2.855308 and f(x1) = 0.002176\n",
      "Iteration-5, x1 = 2.855197 and f(x1) = 0.000000\n",
      "\n",
      "Required root is: 2.85519654\n"
     ]
    }
   ],
   "source": [
    "# code taken from https://www.codesansar.com/numerical-methods/newton-raphson-method-python-program.htm\n",
    "# Defining Function\n",
    "def f(x):\n",
    "    return x**3 - 5*x - 9\n",
    "\n",
    "# Defining derivative of function\n",
    "def g(x):\n",
    "    return 3*x**2 - 5\n",
    "\n",
    "# Implementing Newton Raphson Method\n",
    "\n",
    "def newtonRaphson(x0,e,N):\n",
    "    print('\\n\\n*** NEWTON RAPHSON METHOD IMPLEMENTATION ***')\n",
    "    step = 1\n",
    "    flag = 1\n",
    "    condition = True\n",
    "    while condition:\n",
    "        if g(x0) == 0.0:\n",
    "            print('Divide by zero error!')\n",
    "            break\n",
    "        \n",
    "        x1 = x0 - f(x0)/g(x0)\n",
    "        print('Iteration-%d, x1 = %0.6f and f(x1) = %0.6f' % (step, x1, f(x1)))\n",
    "        x0 = x1\n",
    "        step = step + 1\n",
    "        \n",
    "        if step > N:\n",
    "            flag = 0\n",
    "            break\n",
    "        \n",
    "        condition = abs(f(x1)) > e\n",
    "    \n",
    "    if flag==1:\n",
    "        print('\\nRequired root is: %0.8f' % x1)\n",
    "    else:\n",
    "        print('\\nNot Convergent.')\n",
    "\n",
    "\n",
    "# Input Section\n",
    "x0 = input('Enter Guess: ')\n",
    "e = input('Tolerable Error: ')\n",
    "N = input('Maximum Step: ')\n",
    "\n",
    "# Converting x0 and e to float\n",
    "x0 = float(x0)\n",
    "e = float(e)\n",
    "\n",
    "# Converting N to integer\n",
    "N = int(N)\n",
    "\n",
    "# Starting Newton Raphson Method\n",
    "newtonRaphson(x0,e,N)"
   ]
  },
  {
   "cell_type": "markdown",
   "id": "a42817d0-a808-4ac2-9618-e12781f9b55a",
   "metadata": {},
   "source": [
    "This second block of code is more concise and encapsulates the entire process within a single recursive function checking the tolerance condition within the function itself and returns the result when the condition is satisfied.  The initial guess in this code is automatically set to half of the input number and has a hardcoded tolerance.  I understand that there are schools of thought that recursion is a poor approach in Python - perceived as slower than an iterative solution and because Python's recursion depth is limited to 1000 there is potential for stack overflow (although the recursion depth can be reset to a higher number). "
   ]
  },
  {
   "cell_type": "code",
   "execution_count": 18,
   "id": "7cfced50-f5ce-414a-890d-61912b44688b",
   "metadata": {},
   "outputs": [
    {
     "ename": "KeyboardInterrupt",
     "evalue": "Interrupted by user",
     "output_type": "error",
     "traceback": [
      "\u001b[1;31m---------------------------------------------------------------------------\u001b[0m",
      "\u001b[1;31mKeyboardInterrupt\u001b[0m                         Traceback (most recent call last)",
      "Cell \u001b[1;32mIn[18], line 2\u001b[0m\n\u001b[0;32m      1\u001b[0m \u001b[38;5;66;03m# read in the variables needed to perform the calculation\u001b[39;00m\n\u001b[1;32m----> 2\u001b[0m num \u001b[38;5;241m=\u001b[39m \u001b[38;5;28mint\u001b[39m(\u001b[38;5;28;43minput\u001b[39;49m\u001b[43m(\u001b[49m\u001b[38;5;124;43m\"\u001b[39;49m\u001b[38;5;124;43mEnter a number: \u001b[39;49m\u001b[38;5;124;43m\"\u001b[39;49m\u001b[43m)\u001b[49m)\n\u001b[0;32m      3\u001b[0m given \u001b[38;5;241m=\u001b[39m num\u001b[38;5;241m/\u001b[39m\u001b[38;5;241m2\u001b[39m\n\u001b[0;32m      4\u001b[0m tol \u001b[38;5;241m=\u001b[39m \u001b[38;5;241m0.0001\u001b[39m \u001b[38;5;66;03m# set the tolerance\u001b[39;00m\n",
      "File \u001b[1;32m~\\AppData\\Local\\Programs\\Python\\Python311\\Lib\\site-packages\\ipykernel\\kernelbase.py:1202\u001b[0m, in \u001b[0;36mKernel.raw_input\u001b[1;34m(self, prompt)\u001b[0m\n\u001b[0;32m   1200\u001b[0m     msg \u001b[38;5;241m=\u001b[39m \u001b[38;5;124m\"\u001b[39m\u001b[38;5;124mraw_input was called, but this frontend does not support input requests.\u001b[39m\u001b[38;5;124m\"\u001b[39m\n\u001b[0;32m   1201\u001b[0m     \u001b[38;5;28;01mraise\u001b[39;00m StdinNotImplementedError(msg)\n\u001b[1;32m-> 1202\u001b[0m \u001b[38;5;28;01mreturn\u001b[39;00m \u001b[38;5;28;43mself\u001b[39;49m\u001b[38;5;241;43m.\u001b[39;49m\u001b[43m_input_request\u001b[49m\u001b[43m(\u001b[49m\n\u001b[0;32m   1203\u001b[0m \u001b[43m    \u001b[49m\u001b[38;5;28;43mstr\u001b[39;49m\u001b[43m(\u001b[49m\u001b[43mprompt\u001b[49m\u001b[43m)\u001b[49m\u001b[43m,\u001b[49m\n\u001b[0;32m   1204\u001b[0m \u001b[43m    \u001b[49m\u001b[38;5;28;43mself\u001b[39;49m\u001b[38;5;241;43m.\u001b[39;49m\u001b[43m_parent_ident\u001b[49m\u001b[43m[\u001b[49m\u001b[38;5;124;43m\"\u001b[39;49m\u001b[38;5;124;43mshell\u001b[39;49m\u001b[38;5;124;43m\"\u001b[39;49m\u001b[43m]\u001b[49m\u001b[43m,\u001b[49m\n\u001b[0;32m   1205\u001b[0m \u001b[43m    \u001b[49m\u001b[38;5;28;43mself\u001b[39;49m\u001b[38;5;241;43m.\u001b[39;49m\u001b[43mget_parent\u001b[49m\u001b[43m(\u001b[49m\u001b[38;5;124;43m\"\u001b[39;49m\u001b[38;5;124;43mshell\u001b[39;49m\u001b[38;5;124;43m\"\u001b[39;49m\u001b[43m)\u001b[49m\u001b[43m,\u001b[49m\n\u001b[0;32m   1206\u001b[0m \u001b[43m    \u001b[49m\u001b[43mpassword\u001b[49m\u001b[38;5;241;43m=\u001b[39;49m\u001b[38;5;28;43;01mFalse\u001b[39;49;00m\u001b[43m,\u001b[49m\n\u001b[0;32m   1207\u001b[0m \u001b[43m\u001b[49m\u001b[43m)\u001b[49m\n",
      "File \u001b[1;32m~\\AppData\\Local\\Programs\\Python\\Python311\\Lib\\site-packages\\ipykernel\\kernelbase.py:1245\u001b[0m, in \u001b[0;36mKernel._input_request\u001b[1;34m(self, prompt, ident, parent, password)\u001b[0m\n\u001b[0;32m   1242\u001b[0m \u001b[38;5;28;01mexcept\u001b[39;00m \u001b[38;5;167;01mKeyboardInterrupt\u001b[39;00m:\n\u001b[0;32m   1243\u001b[0m     \u001b[38;5;66;03m# re-raise KeyboardInterrupt, to truncate traceback\u001b[39;00m\n\u001b[0;32m   1244\u001b[0m     msg \u001b[38;5;241m=\u001b[39m \u001b[38;5;124m\"\u001b[39m\u001b[38;5;124mInterrupted by user\u001b[39m\u001b[38;5;124m\"\u001b[39m\n\u001b[1;32m-> 1245\u001b[0m     \u001b[38;5;28;01mraise\u001b[39;00m \u001b[38;5;167;01mKeyboardInterrupt\u001b[39;00m(msg) \u001b[38;5;28;01mfrom\u001b[39;00m \u001b[38;5;28;01mNone\u001b[39;00m\n\u001b[0;32m   1246\u001b[0m \u001b[38;5;28;01mexcept\u001b[39;00m \u001b[38;5;167;01mException\u001b[39;00m:\n\u001b[0;32m   1247\u001b[0m     \u001b[38;5;28mself\u001b[39m\u001b[38;5;241m.\u001b[39mlog\u001b[38;5;241m.\u001b[39mwarning(\u001b[38;5;124m\"\u001b[39m\u001b[38;5;124mInvalid Message:\u001b[39m\u001b[38;5;124m\"\u001b[39m, exc_info\u001b[38;5;241m=\u001b[39m\u001b[38;5;28;01mTrue\u001b[39;00m)\n",
      "\u001b[1;31mKeyboardInterrupt\u001b[0m: Interrupted by user"
     ]
    }
   ],
   "source": [
    "# read in the variables needed to perform the calculation\n",
    "num = int(input(\"Enter a number: \"))\n",
    "given = num/2\n",
    "tol = 0.0001 # set the tolerance\n",
    "\n",
    "# this function will loop the iteration until the tolerance is reached\n",
    "def sqRoot(x):\n",
    "    if((x * x > num - tol) and (x * x <= num + tol)):\n",
    "        return x\n",
    "    x = (x + num/x)/2\n",
    "    return sqRoot(x)\n",
    "\n",
    "# call the function\n",
    "root = sqRoot(given)\n",
    "\n",
    "# rounding the output so that it is more approximate!\n",
    "roundRoot = round(root, 2)\n",
    "\n",
    "print(\"The square root of {} is approximately {}\".format(num,roundRoot))"
   ]
  },
  {
   "cell_type": "markdown",
   "id": "ec1e0903-fa53-4d2a-adbc-36345458be5e",
   "metadata": {},
   "source": [
    "## REFERENCES:\n",
    "* https://hackernoon.com/calculating-the-square-root-of-a-number-using-the-newton-raphson-method-a-how-to-guide-yr4e32zo\n",
    "* https://www.geeksforgeeks.org/program-for-newton-raphson-method/\n",
    "* https://data-flair.training/blogs/python-function/\n",
    "* https://stackoverflow.com/questions/16005123/how-can-i-make-a-recursive-square-root-in-python#:~:text=The%20basic%20strategy%20for%20a,the%20true%20root%20to%20return.\n",
    "* https://stackoverflow.com/questions/48823833/simple-program-to-find-squre-root-using-recursion/48823931\n",
    "* https://beapython.dev/2020/05/14/is-recursion-bad-in-python/#:~:text=Recursion%20can%20be%20considered%20bad,calls%20on%20the%20call%20stack.\n",
    "* https://stackoverflow.com/questions/4278327/danger-of-recursive-functions  "
   ]
  },
  {
   "cell_type": "markdown",
   "id": "dd511ff5",
   "metadata": {},
   "source": [
    "# Task 2\n",
    "***\n",
    "#### Consider the below contingency table based on a survey asking respondents whether they prefer coffee or tea and whether they prefer plain or chocolate biscuits. Use scipy.stats to perform a chi-squared test to see whether there is any evidence of an association between drink preference and biscuit preference in this instance.\n"
   ]
  },
  {
   "cell_type": "markdown",
   "id": "76d37328",
   "metadata": {},
   "source": [
    "           | Chocolate  |   Plain\n",
    "-------------------------------------\n",
    "Coffee     |     43     |     57\n",
    "Tea        |     56     |     45\n"
   ]
  },
  {
   "cell_type": "code",
   "execution_count": 40,
   "id": "e8831c5b",
   "metadata": {},
   "outputs": [
    {
     "name": "stdout",
     "output_type": "stream",
     "text": [
      "Chi-squared statistic: 2.6359100836554257\n",
      "P-value: 0.10447218120907394\n",
      "\n",
      "Significance Test:\n",
      "There is no evidence of an association between drink preference and biscuit preference.\n"
     ]
    }
   ],
   "source": [
    "from scipy.stats import chi2_contingency\n",
    "\n",
    "# Define the contingency table with labels\n",
    "contingency_table = [\n",
    "    ['Drink', 'Biscuit', 'Count'],  # Column labels\n",
    "    ['Coffee', 'Chocolate', 43],    # Row 1\n",
    "    ['Coffee', 'Plain', 57],        # Row 2\n",
    "    ['Tea', 'Chocolate', 56],       # Row 3\n",
    "    ['Tea', 'Plain', 45],           # Row 4\n",
    "]\n",
    "\n",
    "# Extracting the actual data (excluding column labels)\n",
    "data = [row[2] for row in contingency_table[1:]]\n",
    "\n",
    "# Perform chi-squared test\n",
    "chi2, p, _, _ = chi2_contingency([data[:2], data[2:]])\n",
    "\n",
    "# Print results\n",
    "print(f\"Chi-squared statistic: {chi2}\")\n",
    "print(f\"P-value: {p}\")\n",
    "\n",
    "# Interpret the results\n",
    "alpha = 0.05\n",
    "print(\"\\nSignificance Test:\")\n",
    "if p <= alpha:\n",
    "    print(\"There is evidence of an association between drink preference and biscuit preference.\")\n",
    "else:\n",
    "    print(\"There is no evidence of an association between drink preference and biscuit preference.\")\n"
   ]
  },
  {
   "cell_type": "markdown",
   "id": "87ba78cc",
   "metadata": {},
   "source": [
    "### Method\n",
    "\n",
    "First I created a contingency table using a list of lists. Column labels are ['Drink', 'Biscuit', 'Count'] and the rows represent different combinations of drink and biscuit preferences, with corresponding counts.\n",
    "\n",
    "I then extracted the actual count values from the rows of the contingency table and excluded the column labels from the data.\n",
    "\n",
    "I used `chi2_contingency` from `scipy.stats` to perform a chi-squared test on the data.  The function expects a 2D array or contingency table, so I split the data into two lists representing the counts for 'Chocolate' and 'Plain' biscuits.\n",
    "\n",
    "Having obtained the chi-squared statistic and p-value from the test, the findings are printed using print statements.  \n",
    "\n",
    "The chi-squared statistic is used to quantify the difference between the observed and expected frequencies in a contingency table. In the context of the chi-squared test of independence, the statistic is used to assess whether there is a significant association between the categorical variables represented in the table.\n",
    "\n",
    "If the p-value is less than or equal to the signifiance level (`alpha`), it suggests evidence to reject the null hypothesis, indicating an association.  Otherwise, there is no evidence of an association.  For my purposes I have used the standard significance level of 0.05.  \n",
    "\n",
    "### Finding\n",
    "The P value here is 0.10447218120907394, well above the significance level of 0.05 indicating that there is no correlation between a persons preferred drink (tea or coffee) and the type of biscuit they prefer (chocolate/plain). \n"
   ]
  },
  {
   "cell_type": "markdown",
   "id": "09ad667e",
   "metadata": {},
   "source": [
    "## REFERENCES:\n",
    "* https://docs.scipy.org/doc/scipy/reference/generated/scipy.stats.chi2_contingency.html\n",
    "* https://www.geeksforgeeks.org/python-pearsons-chi-square-test/\n",
    "* https://analyticsindiamag.com/a-beginners-guide-to-chi-square-test-in-python-from-scratch/\n",
    "* https://stats.stackexchange.com/questions/104468/understanding-the-chi-squared-test-and-the-chi-squared-distribution"
   ]
  },
  {
   "cell_type": "markdown",
   "id": "db6d675f-d5c7-4050-907e-526c515f11d1",
   "metadata": {},
   "source": [
    "# Task 3\n",
    "***\n",
    "#### Perform a t-test on the famous penguins data set to investigate whether there is evidence of a significant difference in the body mass of male and female gentoo penguins"
   ]
  },
  {
   "cell_type": "markdown",
   "id": "5421d41f-e360-48ef-94a4-8375376d0225",
   "metadata": {},
   "source": [
    "The Palmers Penguin dataset contains data for 344 penguins across 3 different species of penguins, collected and made available by Dr. Kristen Gorman and the Palmer Station, Antarctica LTER, from 3 islands in the Palmer Archipelago, Antarctica. The below code loads the dataset, filters it down to only the Gentoo penguins, separates them by sex and using the t-test function from scipy.stats, the test compares the means of two independent samples (male and female body masses) to determine if there's a significant difference."
   ]
  },
  {
   "cell_type": "markdown",
   "id": "e1d9b2ad-e18c-4e87-8635-077f17000ff6",
   "metadata": {},
   "source": [
    "A t-test is a statistical test used to determine if there is a significant difference between the means of two sets of data. It calculates a t-statistic and a p-value. The t-statistic represents the difference between the means of the two groups in terms of standard error. The p-value is the probability of observing a t-statistic as extreme as the one calculated, assuming that the null hypothesis is true.\n",
    "\n",
    "If the p-value is less than a chosen significance level (commonly 0.05 and in my code it is called 'alpha'), the null hypothesis is rejected.\n",
    "\n",
    "If the p-value is greater than the significance level, you fail to reject the null hypothesis.\n",
    "\n",
    "Null Hypothesis (H0): There is no significant difference in body mass between male and female Gentoo penguins.\n",
    "\n",
    "Alternative Hypothesis (H1): There is a significant difference in body mass between male and female Gentoo penguins.d female Gentoo penguins.\")\r\n"
   ]
  },
  {
   "cell_type": "code",
   "execution_count": 41,
   "id": "804356fb-c144-44c6-a169-f297fabf7ead",
   "metadata": {},
   "outputs": [],
   "source": [
    "import pandas as pd\n",
    "from scipy.stats import ttest_ind\n",
    "\n",
    "# Load the penguins dataset\n",
    "penguins = pd.read_csv('penguins.csv')"
   ]
  },
  {
   "cell_type": "code",
   "execution_count": 42,
   "id": "bd367902-1f1e-4c51-8a4c-75513e563a57",
   "metadata": {},
   "outputs": [
    {
     "data": {
      "text/html": [
       "<div>\n",
       "<style scoped>\n",
       "    .dataframe tbody tr th:only-of-type {\n",
       "        vertical-align: middle;\n",
       "    }\n",
       "\n",
       "    .dataframe tbody tr th {\n",
       "        vertical-align: top;\n",
       "    }\n",
       "\n",
       "    .dataframe thead th {\n",
       "        text-align: right;\n",
       "    }\n",
       "</style>\n",
       "<table border=\"1\" class=\"dataframe\">\n",
       "  <thead>\n",
       "    <tr style=\"text-align: right;\">\n",
       "      <th></th>\n",
       "      <th>rowid</th>\n",
       "      <th>bill_length_mm</th>\n",
       "      <th>bill_depth_mm</th>\n",
       "      <th>flipper_length_mm</th>\n",
       "      <th>body_mass_g</th>\n",
       "      <th>year</th>\n",
       "    </tr>\n",
       "  </thead>\n",
       "  <tbody>\n",
       "    <tr>\n",
       "      <th>count</th>\n",
       "      <td>344.000000</td>\n",
       "      <td>342.000000</td>\n",
       "      <td>342.000000</td>\n",
       "      <td>342.000000</td>\n",
       "      <td>342.000000</td>\n",
       "      <td>344.000000</td>\n",
       "    </tr>\n",
       "    <tr>\n",
       "      <th>mean</th>\n",
       "      <td>172.500000</td>\n",
       "      <td>43.921930</td>\n",
       "      <td>17.151170</td>\n",
       "      <td>200.915205</td>\n",
       "      <td>4201.754386</td>\n",
       "      <td>2008.029070</td>\n",
       "    </tr>\n",
       "    <tr>\n",
       "      <th>std</th>\n",
       "      <td>99.448479</td>\n",
       "      <td>5.459584</td>\n",
       "      <td>1.974793</td>\n",
       "      <td>14.061714</td>\n",
       "      <td>801.954536</td>\n",
       "      <td>0.818356</td>\n",
       "    </tr>\n",
       "    <tr>\n",
       "      <th>min</th>\n",
       "      <td>1.000000</td>\n",
       "      <td>32.100000</td>\n",
       "      <td>13.100000</td>\n",
       "      <td>172.000000</td>\n",
       "      <td>2700.000000</td>\n",
       "      <td>2007.000000</td>\n",
       "    </tr>\n",
       "    <tr>\n",
       "      <th>25%</th>\n",
       "      <td>86.750000</td>\n",
       "      <td>39.225000</td>\n",
       "      <td>15.600000</td>\n",
       "      <td>190.000000</td>\n",
       "      <td>3550.000000</td>\n",
       "      <td>2007.000000</td>\n",
       "    </tr>\n",
       "    <tr>\n",
       "      <th>50%</th>\n",
       "      <td>172.500000</td>\n",
       "      <td>44.450000</td>\n",
       "      <td>17.300000</td>\n",
       "      <td>197.000000</td>\n",
       "      <td>4050.000000</td>\n",
       "      <td>2008.000000</td>\n",
       "    </tr>\n",
       "    <tr>\n",
       "      <th>75%</th>\n",
       "      <td>258.250000</td>\n",
       "      <td>48.500000</td>\n",
       "      <td>18.700000</td>\n",
       "      <td>213.000000</td>\n",
       "      <td>4750.000000</td>\n",
       "      <td>2009.000000</td>\n",
       "    </tr>\n",
       "    <tr>\n",
       "      <th>max</th>\n",
       "      <td>344.000000</td>\n",
       "      <td>59.600000</td>\n",
       "      <td>21.500000</td>\n",
       "      <td>231.000000</td>\n",
       "      <td>6300.000000</td>\n",
       "      <td>2009.000000</td>\n",
       "    </tr>\n",
       "  </tbody>\n",
       "</table>\n",
       "</div>"
      ],
      "text/plain": [
       "            rowid  bill_length_mm  bill_depth_mm  flipper_length_mm   \n",
       "count  344.000000      342.000000     342.000000         342.000000  \\\n",
       "mean   172.500000       43.921930      17.151170         200.915205   \n",
       "std     99.448479        5.459584       1.974793          14.061714   \n",
       "min      1.000000       32.100000      13.100000         172.000000   \n",
       "25%     86.750000       39.225000      15.600000         190.000000   \n",
       "50%    172.500000       44.450000      17.300000         197.000000   \n",
       "75%    258.250000       48.500000      18.700000         213.000000   \n",
       "max    344.000000       59.600000      21.500000         231.000000   \n",
       "\n",
       "       body_mass_g         year  \n",
       "count   342.000000   344.000000  \n",
       "mean   4201.754386  2008.029070  \n",
       "std     801.954536     0.818356  \n",
       "min    2700.000000  2007.000000  \n",
       "25%    3550.000000  2007.000000  \n",
       "50%    4050.000000  2008.000000  \n",
       "75%    4750.000000  2009.000000  \n",
       "max    6300.000000  2009.000000  "
      ]
     },
     "execution_count": 42,
     "metadata": {},
     "output_type": "execute_result"
    }
   ],
   "source": [
    "penguins.describe()"
   ]
  },
  {
   "cell_type": "code",
   "execution_count": 43,
   "id": "dc99b08b-c6bc-4882-ae64-83f146411577",
   "metadata": {},
   "outputs": [
    {
     "name": "stdout",
     "output_type": "stream",
     "text": [
      "<class 'pandas.core.frame.DataFrame'>\n",
      "RangeIndex: 344 entries, 0 to 343\n",
      "Data columns (total 9 columns):\n",
      " #   Column             Non-Null Count  Dtype  \n",
      "---  ------             --------------  -----  \n",
      " 0   rowid              344 non-null    int64  \n",
      " 1   species            344 non-null    object \n",
      " 2   island             344 non-null    object \n",
      " 3   bill_length_mm     342 non-null    float64\n",
      " 4   bill_depth_mm      342 non-null    float64\n",
      " 5   flipper_length_mm  342 non-null    float64\n",
      " 6   body_mass_g        342 non-null    float64\n",
      " 7   sex                333 non-null    object \n",
      " 8   year               344 non-null    int64  \n",
      "dtypes: float64(4), int64(2), object(3)\n",
      "memory usage: 24.3+ KB\n"
     ]
    }
   ],
   "source": [
    "penguins.info()"
   ]
  },
  {
   "cell_type": "markdown",
   "id": "472d9428-dd8a-4989-8f2b-869ab7545f21",
   "metadata": {},
   "source": [
    "Each float category column is missing 2 null observations and the sex column is missing 11."
   ]
  },
  {
   "cell_type": "code",
   "execution_count": 45,
   "id": "c3ff0a08-cd75-413a-9481-f364e5665690",
   "metadata": {},
   "outputs": [],
   "source": [
    "# Filter data for only Gentoo penguins\n",
    "gentoo_penguins = penguins[penguins['species'] == 'Gentoo']"
   ]
  },
  {
   "cell_type": "code",
   "execution_count": 46,
   "id": "ccb21fc7-106b-4966-8fca-4bfe923896f7",
   "metadata": {},
   "outputs": [
    {
     "data": {
      "text/html": [
       "<div>\n",
       "<style scoped>\n",
       "    .dataframe tbody tr th:only-of-type {\n",
       "        vertical-align: middle;\n",
       "    }\n",
       "\n",
       "    .dataframe tbody tr th {\n",
       "        vertical-align: top;\n",
       "    }\n",
       "\n",
       "    .dataframe thead th {\n",
       "        text-align: right;\n",
       "    }\n",
       "</style>\n",
       "<table border=\"1\" class=\"dataframe\">\n",
       "  <thead>\n",
       "    <tr style=\"text-align: right;\">\n",
       "      <th></th>\n",
       "      <th>rowid</th>\n",
       "      <th>species</th>\n",
       "      <th>island</th>\n",
       "      <th>bill_length_mm</th>\n",
       "      <th>bill_depth_mm</th>\n",
       "      <th>flipper_length_mm</th>\n",
       "      <th>body_mass_g</th>\n",
       "      <th>sex</th>\n",
       "      <th>year</th>\n",
       "    </tr>\n",
       "  </thead>\n",
       "  <tbody>\n",
       "    <tr>\n",
       "      <th>178</th>\n",
       "      <td>179</td>\n",
       "      <td>Gentoo</td>\n",
       "      <td>Biscoe</td>\n",
       "      <td>44.5</td>\n",
       "      <td>14.3</td>\n",
       "      <td>216.0</td>\n",
       "      <td>4100.0</td>\n",
       "      <td>NaN</td>\n",
       "      <td>2007</td>\n",
       "    </tr>\n",
       "    <tr>\n",
       "      <th>218</th>\n",
       "      <td>219</td>\n",
       "      <td>Gentoo</td>\n",
       "      <td>Biscoe</td>\n",
       "      <td>46.2</td>\n",
       "      <td>14.4</td>\n",
       "      <td>214.0</td>\n",
       "      <td>4650.0</td>\n",
       "      <td>NaN</td>\n",
       "      <td>2008</td>\n",
       "    </tr>\n",
       "    <tr>\n",
       "      <th>256</th>\n",
       "      <td>257</td>\n",
       "      <td>Gentoo</td>\n",
       "      <td>Biscoe</td>\n",
       "      <td>47.3</td>\n",
       "      <td>13.8</td>\n",
       "      <td>216.0</td>\n",
       "      <td>4725.0</td>\n",
       "      <td>NaN</td>\n",
       "      <td>2009</td>\n",
       "    </tr>\n",
       "    <tr>\n",
       "      <th>268</th>\n",
       "      <td>269</td>\n",
       "      <td>Gentoo</td>\n",
       "      <td>Biscoe</td>\n",
       "      <td>44.5</td>\n",
       "      <td>15.7</td>\n",
       "      <td>217.0</td>\n",
       "      <td>4875.0</td>\n",
       "      <td>NaN</td>\n",
       "      <td>2009</td>\n",
       "    </tr>\n",
       "    <tr>\n",
       "      <th>271</th>\n",
       "      <td>272</td>\n",
       "      <td>Gentoo</td>\n",
       "      <td>Biscoe</td>\n",
       "      <td>NaN</td>\n",
       "      <td>NaN</td>\n",
       "      <td>NaN</td>\n",
       "      <td>NaN</td>\n",
       "      <td>NaN</td>\n",
       "      <td>2009</td>\n",
       "    </tr>\n",
       "  </tbody>\n",
       "</table>\n",
       "</div>"
      ],
      "text/plain": [
       "     rowid species  island  bill_length_mm  bill_depth_mm  flipper_length_mm   \n",
       "178    179  Gentoo  Biscoe            44.5           14.3              216.0  \\\n",
       "218    219  Gentoo  Biscoe            46.2           14.4              214.0   \n",
       "256    257  Gentoo  Biscoe            47.3           13.8              216.0   \n",
       "268    269  Gentoo  Biscoe            44.5           15.7              217.0   \n",
       "271    272  Gentoo  Biscoe             NaN            NaN                NaN   \n",
       "\n",
       "     body_mass_g  sex  year  \n",
       "178       4100.0  NaN  2007  \n",
       "218       4650.0  NaN  2008  \n",
       "256       4725.0  NaN  2009  \n",
       "268       4875.0  NaN  2009  \n",
       "271          NaN  NaN  2009  "
      ]
     },
     "execution_count": 46,
     "metadata": {},
     "output_type": "execute_result"
    }
   ],
   "source": [
    "# show rows with NaN values\n",
    "gentoo_penguins[gentoo_penguins.isnull().any(axis=1)]"
   ]
  },
  {
   "cell_type": "code",
   "execution_count": 58,
   "id": "82cbfd0a-5e5c-4442-aca7-bc076fd3c177",
   "metadata": {},
   "outputs": [
    {
     "name": "stdout",
     "output_type": "stream",
     "text": [
      "T-statistic: 14.721676481405709\n",
      "P-value: 2.133687602018886e-28\n",
      "There is evidence of a significant difference in body mass between male and female Gentoo penguins.\n"
     ]
    },
    {
     "data": {
      "image/png": "[encoded data removed]",
      "text/plain": [
       "<Figure size 640x480 with 1 Axes>"
      ]
     },
     "metadata": {},
     "output_type": "display_data"
    }
   ],
   "source": [
    "# Separate data for male and female Gentoo penguins\n",
    "male_data = gentoo_penguins[gentoo_penguins['sex'] == 'male']['body_mass_g']\n",
    "female_data = gentoo_penguins[gentoo_penguins['sex'] == 'female']['body_mass_g']\n",
    "\n",
    "# Perform t-test, ignoring NaN values\n",
    "t_stat, p_value = ttest_ind(male_data, female_data, nan_policy='omit')\n",
    "\n",
    "# Print the results\n",
    "print(f'T-statistic: {t_stat}')\n",
    "print(f'P-value: {p_value}')\n",
    "\n",
    "# Check for statistical significance\n",
    "alpha = 0.05\n",
    "if p_value < alpha:\n",
    "    print('There is evidence of a significant difference in body mass between male and female Gentoo penguins.')\n",
    "else:\n",
    "    print(\"There is no significant difference in body mass between male and female Gentoo penguins.\")\n",
    "\n",
    "# Calculate mean values\n",
    "male_mean = male_data.mean()\n",
    "female_mean = female_data.mean()\n",
    "\n",
    "# Set Seaborn style\n",
    "sns.set(style=\"whitegrid\")\n",
    "\n",
    "# Create a violin plot\n",
    "ax = sns.violinplot(x='sex', y='body_mass_g', data=gentoo_penguins, hue='sex')\n",
    "\n",
    "# Add mean values as text annotations\n",
    "ax.text(0, male_mean, f'Mean: {male_mean:.2f}', ha='center', va='bottom', color='red', fontsize=12)\n",
    "ax.text(1, female_mean, f'Mean: {female_mean:.2f}', ha='center', va='bottom', color='red', fontsize=12)\n",
    "\n",
    "# Add title and labels\n",
    "plt.title('Body Mass Comparison between Male and Female Gentoo Penguins', fontsize=16)\n",
    "plt.xlabel('Sex', fontsize=14)\n",
    "plt.ylabel('Body Mass (g)', fontsize=14)\n",
    "\n",
    "# Show the plot\n",
    "plt.show()"
   ]
  },
  {
   "cell_type": "markdown",
   "id": "1476b10f-c9ae-4134-a85d-9686242a9bdd",
   "metadata": {},
   "source": [
    "The violin plot visually supports the t-test conclusion.  It clearly represents the distribution of body masses and supports the finding that there is no substantial difference between male and female Gentoo penguins in terms of body mass. "
   ]
  },
  {
   "cell_type": "markdown",
   "id": "ef637d24-fc96-4bb0-8fbf-04e153cf56f5",
   "metadata": {},
   "source": [
    "## References:\n",
    "\n",
    "* Horst AM, Hill AP, Gorman KB (2020). palmerpenguins: Palmer Archipelago (Antarctica) penguin data. R package version 0.1.0. https://allisonhorst.github.io/palmerpenguins/. doi: 10.5281/zenodo.3960218.\n",
    "* https://www.datacamp.com/tutorial/an-introduction-to-python-t-tests\n",
    "* https://www.pythonfordatascience.org/independent-samples-t-test-python/\n",
    "* https://www.tutorialspoint.com/how-to-conduct-a-one-sample-t-test-in-python/"
   ]
  }
 ],
 "metadata": {
  "kernelspec": {
   "display_name": "Python 3 (ipykernel)",
   "language": "python",
   "name": "python3"
  },
  "language_info": {
   "codemirror_mode": {
    "name": "ipython",
    "version": 3
   },
   "file_extension": ".py",
   "mimetype": "text/x-python",
   "name": "python",
   "nbconvert_exporter": "python",
   "pygments_lexer": "ipython3",
   "version": "3.11.2"
  }
 },
 "nbformat": 4,
 "nbformat_minor": 5
}
